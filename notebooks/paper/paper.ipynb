{
 "cells": [
  {
   "cell_type": "markdown",
   "id": "2ad4cb9c-9bd6-4ce6-81e6-f71269cc7c8e",
   "metadata": {},
   "source": [
    "# Paper"
   ]
  },
  {
   "cell_type": "markdown",
   "id": "4c8f6a02-0b17-4fc3-9b6b-88b68c89b7e8",
   "metadata": {},
   "source": [
    "Run:\n",
    "```\n",
    "$ julia\n",
    "\n",
    "julia> using IJulia\n",
    "julia> notebook(dir = pwd(), verbose = true)\n",
    "# open this notebook and select Julia (multithreaded) kernel\n",
    "```"
   ]
  },
  {
   "cell_type": "code",
   "execution_count": null,
   "id": "5747473a-35ff-44f9-818b-c7b8e0f10cc9",
   "metadata": {},
   "outputs": [],
   "source": [
    "Base.current_project() # should be in same directory as notebook"
   ]
  },
  {
   "cell_type": "code",
   "execution_count": null,
   "id": "5fe915e0-e36c-4ae3-abe4-daa2ca58148a",
   "metadata": {},
   "outputs": [],
   "source": [
    "using Base.Threads\n",
    "Threads.nthreads() # should be more than 1"
   ]
  },
  {
   "cell_type": "code",
   "execution_count": null,
   "id": "dc5b206c-883f-400b-8447-56b96b9bfe45",
   "metadata": {},
   "outputs": [],
   "source": [
    "using Plots\n",
    "Plots.default(\n",
    "    linewidth = 1.5, grid = false, framestyle = :box,\n",
    "    tickfontsize = 8, labelfontsize = 8, legendfontsize = 8,\n",
    ")\n",
    "using LinearAlgebra: BLAS; BLAS.set_num_threads(1)"
   ]
  },
  {
   "cell_type": "markdown",
   "id": "089bf5e9-7634-4656-b05d-f7f883a0efde",
   "metadata": {},
   "source": [
    "## Basic usage"
   ]
  },
  {
   "cell_type": "code",
   "execution_count": null,
   "id": "1a27ec07-9dc0-49e5-ad73-29ae9586531a",
   "metadata": {},
   "outputs": [],
   "source": [
    "using SymBoltz"
   ]
  },
  {
   "cell_type": "code",
   "execution_count": null,
   "id": "c7f68efd-38e0-4705-985b-2bb1c05d3aef",
   "metadata": {
    "scrolled": true
   },
   "outputs": [],
   "source": [
    "M = ΛCDM()"
   ]
  },
  {
   "cell_type": "code",
   "execution_count": null,
   "id": "1c0d5f63-7790-4022-85b0-53646898f108",
   "metadata": {},
   "outputs": [],
   "source": [
    "pars = Dict(\n",
    "  M.γ.T₀ => 2.7, M.b.Ω₀ => 0.05, M.b.YHe => 0.25,\n",
    "  M.ν.Neff => 3.0, M.c.Ω₀ => 0.27, M.h.m_eV => 0.02,\n",
    "  M.I.ln_As1e10 => 3.0, M.I.ns => 0.96, M.g.h => 0.7\n",
    ")"
   ]
  },
  {
   "cell_type": "code",
   "execution_count": null,
   "id": "debb1497-b2ee-4829-98e9-a4de1cfef10b",
   "metadata": {},
   "outputs": [],
   "source": [
    "prob = CosmologyProblem(M, pars)"
   ]
  },
  {
   "cell_type": "code",
   "execution_count": null,
   "id": "424c7810-0843-4e6a-8d8f-628f838c34bf",
   "metadata": {},
   "outputs": [],
   "source": [
    "ks = [4, 40, 400, 4000]\n",
    "sol = solve(prob, ks; verbose = true)"
   ]
  },
  {
   "cell_type": "code",
   "execution_count": null,
   "id": "55b5c8e0-50ce-475d-a546-09a2441d8a6e",
   "metadata": {},
   "outputs": [],
   "source": [
    "using Plots\n",
    "p = plot(layout=(2, 3), size=(1200, 500), link = :x, xlims = (-7, 0), grid = false, right_margin = -1*Plots.mm)\n",
    "plot!(p[1], sol, log10(M.g.a), [M.τ/M.τ0, 1/M.g.ℰ, 1/M.g.E]; xlabel = \"\", xformatter = :none, yticks = 0.0:0.2:1.0, bottom_margin = -5*Plots.mm)\n",
    "plot!(p[2], sol, log10(M.g.a), [M.b.ρ, M.c.ρ, M.γ.ρ, M.ν.ρ, M.h.ρ, M.Λ.ρ] ./ M.G.ρ; xlabel = \"\", xformatter = :none, yticks = 0.0:0.2:1.0, legend_position = :topleft, bottom_margin = -5*Plots.mm)\n",
    "plot!(p[3], sol, log10(M.g.a), [M.b.rec.XHe⁺⁺, M.b.rec.XHe⁺, M.b.rec.XH⁺, M.b.Xe]; xlabel = \"\", xformatter = :none, yticks = 0.0:0.2:1.2, legend_position = :left, bottom_margin = -5*Plots.mm)\n",
    "plot!(p[4], sol, log10(M.g.a), [M.g.Φ, M.g.Ψ], ks; bottom_margin=4*Plots.mm) # bottom margin to show labels\n",
    "plot!(p[5], sol, log10(M.g.a), log10.(abs.([M.b.δ, M.c.δ, M.γ.δ, M.ν.δ, M.h.δ])), ks; ylims = (-3, +5), klabel = false, bottom_margin=4*Plots.mm)\n",
    "plot!(p[6], sol, log10(M.g.a), [M.γ.F0, M.γ.F[1], M.γ.F[2]], ks; klabel = false, bottom_margin=4*Plots.mm)"
   ]
  },
  {
   "cell_type": "code",
   "execution_count": null,
   "id": "0b307c7d-1a6c-47c5-8185-1382d569ab74",
   "metadata": {},
   "outputs": [],
   "source": [
    "savefig(p, \"evolution.pdf\")"
   ]
  },
  {
   "cell_type": "markdown",
   "id": "de2ca65d-6412-4630-b3eb-05b7ae27baf5",
   "metadata": {},
   "source": [
    "## Modifying models"
   ]
  },
  {
   "cell_type": "code",
   "execution_count": null,
   "id": "230f633a-b7be-4bff-a490-4819c4f4c3ee",
   "metadata": {
    "scrolled": true
   },
   "outputs": [],
   "source": [
    "g, τ, k = M.g, M.τ, M.k\n",
    "a, ℰ, Φ, Ψ = g.a, g.ℰ, g.Φ, g.Ψ\n",
    "D = Differential(τ)\n",
    "@parameters w₀ wₐ cₛ² Ω₀ ρ₀\n",
    "@variables ρ(τ) P(τ) w(τ) cₐ²(τ) δ(τ,k) θ(τ,k) σ(τ,k)\n",
    "eqs = [\n",
    "  w ~ w₀ + wₐ*(1-a)\n",
    "  ρ₀ ~ 3*Ω₀ / (8*Num(π))\n",
    "  ρ ~ ρ₀ * a^(-3(1+w₀+wₐ)) * exp(-3wₐ*(1-a))\n",
    "  P ~ w * ρ\n",
    "  cₐ² ~ w - 1/(3ℰ) * D(w)/(1+w)\n",
    "  D(δ) ~ 3ℰ*(w-cₛ²)*δ - (1+w) * (\n",
    "         (1+9(ℰ/k)^2*(cₛ²-cₐ²))*θ + 3*D(Φ))\n",
    "  D(θ) ~ (3cₛ²-1)*ℰ*θ + k^2*cₛ²*δ/(1+w) + k^2*Ψ\n",
    "  σ ~ 0\n",
    "]\n",
    "initialization_eqs = [\n",
    "  δ ~ -3//2 * (1+w) * Ψ\n",
    "  θ ~ 1//2 * (k^2*τ) * Ψ\n",
    "]\n",
    "X = System(eqs, τ; initialization_eqs, name = :X)"
   ]
  },
  {
   "cell_type": "code",
   "execution_count": null,
   "id": "43e12590-1961-4516-ac83-295697c60034",
   "metadata": {},
   "outputs": [],
   "source": [
    "M = ΛCDM(Λ = X, name = :w0waCDM)\n",
    "pars[M.X.w₀] = -0.9\n",
    "pars[M.X.wₐ] = 0.2\n",
    "pars[M.X.cₛ²] = 1.0\n",
    "prob = CosmologyProblem(M, pars)"
   ]
  },
  {
   "cell_type": "markdown",
   "id": "caad1418-fc8a-40fb-8e41-5a4898992275",
   "metadata": {},
   "source": [
    "## Computing spectra"
   ]
  },
  {
   "cell_type": "code",
   "execution_count": null,
   "id": "3c96adc1-9f83-42a3-9f38-037bf5e6b32b",
   "metadata": {},
   "outputs": [],
   "source": [
    "using Unitful, UnitfulAstro # for units\n",
    "ks = 10 .^ range(-4, 0, length=200) / u\"Mpc\"\n",
    "Ps = spectrum_matter(prob, ks);\n",
    "ks = ks * u\"Mpc\" # 1/Mpc\n",
    "Ps = Ps / u\"Mpc^3\"; # Mpc^3"
   ]
  },
  {
   "cell_type": "code",
   "execution_count": null,
   "id": "00964389-b026-4c3e-bebc-d114b796edc9",
   "metadata": {},
   "outputs": [],
   "source": [
    "ls = 20:20:2000\n",
    "Dls = spectrum_cmb([:TT, :TE, :EE], prob, ls; normalization = :Dl, unit = u\"μK\", verbose = false)\n",
    "Dls = Dls / u\"(μK)^2\""
   ]
  },
  {
   "cell_type": "code",
   "execution_count": null,
   "id": "d8fd93a7-130b-4f7a-bb07-6fd574eaf8c5",
   "metadata": {},
   "outputs": [],
   "source": [
    "using CLASS\n",
    "lmax = lastindex(M.γ.F)\n",
    "classopts = Dict(\n",
    "    \"output\" => \"mPk, tCl, pCl\",\n",
    "\n",
    "    \"ic\" => \"ad\",\n",
    "    \"modes\" => \"s\",\n",
    "    \"gauge\" => \"newtonian\",\n",
    "\n",
    "    # metric\n",
    "    \"h\" => pars[M.g.h],\n",
    "\n",
    "    # photons\n",
    "    \"T_cmb\" => pars[M.γ.T₀],\n",
    "    \"l_max_g\" => lmax,\n",
    "    \"l_max_pol_g\" => lmax,\n",
    "\n",
    "    # baryons\n",
    "    \"Omega_b\" => pars[M.b.Ω₀],\n",
    "    \"YHe\" => pars[M.b.YHe],\n",
    "    \"recombination\" => \"recfast\",\n",
    "    \"recfast_Hswitch\" => 1,\n",
    "    \"recfast_Heswitch\" => 6,\n",
    "    \"reio_parametrization\" => \"reio_camb\",\n",
    "\n",
    "    # cold dark matter\n",
    "    \"Omega_cdm\" => pars[M.c.Ω₀],\n",
    "\n",
    "    # neutrinos\n",
    "    \"N_ur\" => SymBoltz.have(M, :ν) ? pars[M.ν.Neff] : 0.0,\n",
    "    \"N_ncdm\" => SymBoltz.have(M, :h) ? 1 : 0,\n",
    "    \"deg_ncdm\" => SymBoltz.have(M, :h) ? prob.bg.ps[M.h.N] : 0,\n",
    "    \"m_ncdm\" => SymBoltz.have(M, :h) ? pars[M.h.m_eV] : 0.0,\n",
    "    \"T_ncdm\" => SymBoltz.have(M, :h) ? (4/11)^(1/3) : 0.0,\n",
    "    \"l_max_ur\" => lmax,\n",
    "    \"l_max_ncdm\" => lmax,\n",
    "\n",
    "    # primordial power spectrum\n",
    "    \"ln_A_s_1e10\" => pars[M.I.ln_As1e10],\n",
    "    \"n_s\" => pars[M.I.ns],\n",
    "\n",
    "    # w0wa dark energy\n",
    "    \"Omega_Lambda\" => 0.0, # unspecified\n",
    "    \"w0_fld\" => SymBoltz.have(M, :X) ? pars[M.X.w₀] : -1.0,\n",
    "    \"wa_fld\" => SymBoltz.have(M, :X) ? pars[M.X.wₐ] : 0.0,\n",
    "    \"cs2_fld\" => SymBoltz.have(M, :X) ? pars[M.X.cₛ²] : 1.0,\n",
    "    \"use_ppf\" => SymBoltz.have(M, :X) ? \"no\" : \"yes\", # full w0wa equations\n",
    "\n",
    "    # curvature\n",
    "    \"Omega_k\" => SymBoltz.have(M, :K) ? pars[M.K.Ω₀] : 0.0, # curvature\n",
    "\n",
    "    # from https://arxiv.org/pdf/2303.09451 / https://arxiv.org/pdf/2405.06047\n",
    "    \"background_Nloga\" => 6000, # helps a lot!\n",
    "    \"tol_perturbations_integration\" => 1e-6,\n",
    "\n",
    "    # disable approximations\n",
    "    \"tight_coupling_trigger_tau_c_over_tau_h\" => 1e-2, # cannot turn off\n",
    "    \"tight_coupling_trigger_tau_c_over_tau_k\" => 1e-3, # cannot turn off\n",
    "    \"radiation_streaming_approximation\" => 3, # turns off RSA\n",
    "    \"ur_fluid_approximation\" => 3, # turns off UFA\n",
    "    \"ncdm_fluid_approximation\" => 3, # turns off NCDM fluid approximation\n",
    ")\n",
    "class = CLASSProblem(classopts)\n",
    "class = solve(class)"
   ]
  },
  {
   "cell_type": "code",
   "execution_count": null,
   "id": "c8583eb1-dd81-4748-bc42-6f6ac3a9c1a6",
   "metadata": {},
   "outputs": [],
   "source": [
    "p = plot(layout = grid(2, 4, heights=[0.75, 0.25]), size = (1200, 280), left_margin = 5*Plots.mm, bottom_margin = 7*Plots.mm)\n",
    "plot!(p[1,1], log10.(ks), log10.(Ps); xformatter = :none, ylabel = \"lg(P / Mpc³)\", label = nothing, xlims = (-4, 0), ylims = (2, 5), color = 1)\n",
    "plot!(p[1,2], ls, Dls[:, 1]; xformatter = :none, ylabel = \"Cₗᵀᵀ l(l+1) / 2π (μK)²\", color = 2, label = nothing, xlims = (0, 2000)) #, ribbon = @. ls*(ls+1)/2π * σs[:, 1]/u\"(μK)^2\")\n",
    "plot!(p[1,3], ls, Dls[:, 2]; xformatter = :none, ylabel = \"Cₗᵀᴱ l(l+1) / 2π (μK)²\", label = nothing, xlims = (0, 2000), color = 3)\n",
    "plot!(p[1,4], ls, Dls[:, 3]; xformatter = :none, ylabel = \"Cₗᴱᴱ l(l+1) / 2π (μK)²\", label = nothing, xlims = (0, 2000), color = 4)\n",
    "p"
   ]
  },
  {
   "cell_type": "markdown",
   "id": "bb04483a-ff0a-48ff-9fc9-8e29023b440e",
   "metadata": {},
   "source": [
    "Compare to CLASS"
   ]
  },
  {
   "cell_type": "code",
   "execution_count": null,
   "id": "c5ad382c-dd0a-4bc7-b0b4-5d916a34be94",
   "metadata": {},
   "outputs": [],
   "source": [
    "using DataInterpolations\n",
    "\n",
    "h = pars[M.g.h] # TODO: plot in Mpc/h instead?\n",
    "Tγ0 = pars[M.γ.T₀]\n",
    "\n",
    "# interpolate CLASS to the same k\n",
    "# interpolate y1(x1) to y2(x2) # TODO: log flag?\n",
    "interp(y1, x1, x2) = LinearInterpolation(y1, x1)(x2)\n",
    "Ps_class = interp(class[\"pk\"][:,\"P (Mpc/h)^3\"]/h^3, class[\"pk\"][:,\"k (h/Mpc)\"]*h, ks)\n",
    "DlTTs_class = interp(class[\"cl\"][:,\"TT\"], class[\"cl\"][:,\"l\"], ls) * (1e6*Tγ0)^2\n",
    "DlTEs_class = interp(class[\"cl\"][:,\"TE\"], class[\"cl\"][:,\"l\"], ls) * (1e6*Tγ0)^2\n",
    "DlEEs_class = interp(class[\"cl\"][:,\"EE\"], class[\"cl\"][:,\"l\"], ls) * (1e6*Tγ0)^2\n",
    "\n",
    "alpha = 0.3 # for overplotting\n",
    "color = :black\n",
    "linestyle = :dash\n",
    "\n",
    "plot!(p[1,1], log10.(ks), @.(log10(Ps_class)); xformatter = :none, ylabel = \"lg(P / Mpc³)\", label = nothing, xlims = (-4, 0), ylims = (2, 5), color, alpha, linestyle)\n",
    "plot!(p[1,2], ls, @. DlTTs_class; xformatter = :none, label = nothing, xlims = (0, 2000), color, alpha, linestyle) #, ribbon = @. ls*(ls+1)/2π * σs[:, 1]/u\"(μK)^2\")\n",
    "plot!(p[1,3], ls, @. DlTEs_class; xformatter = :none, label = nothing, xlims = (0, 2000), color, alpha, linestyle) #, ribbon = @. ls*(ls+1)/2π * σs[:, 1]/u\"(μK)^2\")\n",
    "plot!(p[1,4], ls, @. DlEEs_class; xformatter = :none, label = nothing, xlims = (0, 2000), color, alpha, linestyle) #, ribbon = @. ls*(ls+1)/2π * σs[:, 1]/u\"(μK)^2\")\n",
    "\n",
    "plot!(p[2,1], log10.(ks), @.(log10(abs(Ps/Ps_class-1))), xlabel = \"lg(k / Mpc⁻¹)\", ylabel = \"lg(rel.err.)\", yticks = -5:1:-1, xlims = (-4, 0), ylims = (-5, -2), color = 1, label = nothing, top_margin = -10*Plots.mm)\n",
    "plot!(p[2,2], ls, @.(log10(abs(Dls[:,1]/DlTTs_class-1))), xlabel = \"l\", xlims = (0, 2000), ylims = (-5, -2), yticks = -5:1:-2, color = 2, label = nothing, top_margin = -10*Plots.mm)\n",
    "plot!(p[2,3], ls, @.(log10(abs(Dls[:,2]/DlTEs_class-1))), xlabel = \"l\", xlims = (0, 2000), ylims = (-5, -2), yticks = -5:1:-2, color = 3, label = nothing, top_margin = -10*Plots.mm)\n",
    "plot!(p[2,4], ls, @.(log10(abs(Dls[:,3]/DlEEs_class-1))), xlabel = \"l\", xlims = (0, 2000), ylims = (-5, -2), yticks = -5:1:-2, color = 4, label = nothing, top_margin = -10*Plots.mm, right_margin = 2*Plots.mm)"
   ]
  },
  {
   "cell_type": "code",
   "execution_count": null,
   "id": "1e059376-6da1-4dc3-bd9f-f779bdce51d4",
   "metadata": {},
   "outputs": [],
   "source": [
    "savefig(p, \"spectra.pdf\")"
   ]
  },
  {
   "cell_type": "markdown",
   "id": "5a8ed991-9233-47f2-850f-0ef874641629",
   "metadata": {},
   "source": [
    "## Fisher forecasting"
   ]
  },
  {
   "cell_type": "code",
   "execution_count": null,
   "id": "87ab686c-f2e1-4b8f-8cb8-8e09e558003c",
   "metadata": {
    "scrolled": true
   },
   "outputs": [],
   "source": [
    "vary = [\n",
    "  M.g.h, M.c.Ω₀, M.b.Ω₀, M.b.YHe, M.ν.Neff,\n",
    "  M.h.m_eV, M.X.w₀, M.X.wₐ, M.I.ln_As1e10, M.I.ns,\n",
    "]\n",
    "genprob = parameter_updater(prob, vary)\n",
    "ls, ls′ = 100:1:1000, 100:25:1000\n",
    "Dl(θ) = (println(\"SymBoltz: \", θ); spectrum_cmb(:TT, genprob(θ), ls, ls′; normalization = :Dl, verbose = true))\n",
    "θ₀ = map(par -> pars[par], vary)\n",
    "Dls = Dl(θ₀)"
   ]
  },
  {
   "cell_type": "code",
   "execution_count": null,
   "id": "5976c404-6ee8-4c85-8414-c21403eae0f5",
   "metadata": {},
   "outputs": [],
   "source": [
    "symboltz2class = Dict(\n",
    "    M.g.h => \"h\",\n",
    "    M.c.Ω₀ => \"Omega_cdm\",\n",
    "    M.b.Ω₀ => \"Omega_b\",\n",
    "    M.b.YHe => \"YHe\",\n",
    "    M.ν.Neff => \"N_ur\",\n",
    "    M.h.m_eV => \"m_ncdm\",\n",
    "    M.I.ln_As1e10 => \"ln_A_s_1e10\",\n",
    "    M.I.ns => \"n_s\",\n",
    "    M.X.w₀ => \"w0_fld\",\n",
    "    M.X.wₐ => \"wa_fld\",\n",
    ")\n",
    "function Dl_class(θ)\n",
    "    println(\"CLASS:\", θ)\n",
    "    newclassopts = Dict(symboltz2class[vary[i]] => θ[i] for i in eachindex(θ))\n",
    "    prob = CLASSProblem(merge(classopts, newclassopts))\n",
    "    sol = solve(prob)\n",
    "    Dls = sol[\"cl\"][:,\"TT\"]\n",
    "    idxs = map(l -> Int(l) in ls, sol[\"cl\"][:,\"l\"])\n",
    "    Dls = Dls[idxs]\n",
    "    return Dls\n",
    "end\n",
    "Dls_class = Dl_class(θ₀);"
   ]
  },
  {
   "cell_type": "code",
   "execution_count": null,
   "id": "7b6eeaba-1041-42f2-942c-c67dbff3eac1",
   "metadata": {},
   "outputs": [],
   "source": [
    "plot(ls, Dls)\n",
    "plot!(ls, Dls_class; linestyle = :dash)"
   ]
  },
  {
   "cell_type": "markdown",
   "id": "ef56a7f8-bbac-402b-a081-e3dca1c8295a",
   "metadata": {},
   "source": [
    "### Automatic differentiation: all parameters"
   ]
  },
  {
   "cell_type": "code",
   "execution_count": null,
   "id": "26af72d4-b109-4f0d-adbd-13c915d1dab5",
   "metadata": {},
   "outputs": [],
   "source": [
    "using ForwardDiff: jacobian\n",
    "dDl_dθ_ad = jacobian(Dl, θ₀)"
   ]
  },
  {
   "cell_type": "markdown",
   "id": "c32864f5-f0ee-422f-8c5c-3b5944079ba9",
   "metadata": {},
   "source": [
    "### Finite differences: parameter-by-parameter"
   ]
  },
  {
   "cell_type": "code",
   "execution_count": null,
   "id": "9d78a775-2254-402c-9835-14cbe7365897",
   "metadata": {},
   "outputs": [],
   "source": [
    "# Compute ∂f/∂xᵢ with finite difference step size Δx\n",
    "function fd_jacobian(f, x, i, Δx)\n",
    "    xi0 = x[i]\n",
    "    try\n",
    "        x[i] = xi0 + Δx/2\n",
    "        f₊ = f(x)\n",
    "        x[i] = xi0 - Δx/2\n",
    "        f₋ = f(x)\n",
    "        Δf = f₊ .- f₋\n",
    "        return Δf ./ Δx\n",
    "    finally\n",
    "        x[i] = xi0 # always reset x[i], even if any calls to f errors\n",
    "    end\n",
    "end\n",
    "\n",
    "# Compute ∂f/∂xᵢ with finite differences\n",
    "# by halving the initial step size Δx until the L2-deviation from df_target no longer falls\n",
    "function fd_jacobian(f, x, i, Δx, df_target::AbstractArray; verbose = true)\n",
    "    df0 = fd_jacobian(f, x, i, Δx)\n",
    "    error(df) = sum((df[i]-df_target[i])^2 for i in eachindex(df)) # L2\n",
    "    err0 = error(df0) # previous\n",
    "    verbose && println(\"Δx = $Δx, err = $err0\")\n",
    "    while true\n",
    "        Δx = Δx / 2\n",
    "        df = fd_jacobian(f, x, i, Δx)\n",
    "        err = error(df)\n",
    "        verbose && println(\"Δx = $Δx, err = $err0\")\n",
    "        err > err0 && return df0\n",
    "        df0 = df\n",
    "        err0 = err\n",
    "    end\n",
    "end\n",
    "\n",
    "# Decrease step size as long as difference between successive iterations is decreasing (i.e. converging)\n",
    "function fd_jacobian(f, x, i; initrelstep = 0.8, verbose = true, div = 2)\n",
    "    Δx1 = initrelstep * x[i] # initial relative step size\n",
    "    df1 = fd_jacobian(f, x, i, Δx1)\n",
    "    error(df1, df2) = sum((df1[i]-df2[i])^2 for i in eachindex(df1)) # L2\n",
    "    err1 = error(df1, zeros(size(df1)))\n",
    "    while true\n",
    "        Δx2 = Δx1 / div\n",
    "        df2 = fd_jacobian(f, x, i, Δx2)\n",
    "        err2 = error(df1, df2)\n",
    "        verbose && println(\"error = $err2\")\n",
    "        err2 > err1 && return df1 # result no longer improving\n",
    "        df1 = df2\n",
    "        Δx1 = Δx2\n",
    "        err1 = err2\n",
    "    end\n",
    "end\n",
    "\n",
    "#f_test(x) = [sin(x[1]+2x[2]+3x[3]), cos(x[1]+2x[2]+3x[3])]\n",
    "#x = [1.0, 2.0, 3.0]\n",
    "#f_test(x)\n",
    "#fd_jacobian(f_test, x, 3)"
   ]
  },
  {
   "cell_type": "code",
   "execution_count": null,
   "id": "a06bc180-8713-447f-a057-14a36546403a",
   "metadata": {},
   "outputs": [],
   "source": [
    "function plot_fd_stepsizes(f, x, i, Δxs; kwargs...)\n",
    "    plot()\n",
    "    for (j, Δx) in enumerate(Δxs)\n",
    "        linewidth = 7 - j\n",
    "        df = fd_jacobian(f, x, i, Δx)\n",
    "        plot!(ls, df; palette = :RdYlGn_6, linewidth, kwargs..., label = \"Δx = $Δx\")\n",
    "    end\n",
    "    return plot!()\n",
    "end\n",
    "\n",
    "#i = 1\n",
    "#steps = [0.1, 0.01, 0.001] * θ₀[i]\n",
    "#plot_fd_stepsizes(Dl_class, θ₀, i, steps)"
   ]
  },
  {
   "cell_type": "code",
   "execution_count": null,
   "id": "54beead0-5b59-4a75-b9da-ce2f617cc3b0",
   "metadata": {},
   "outputs": [],
   "source": [
    "function convergence(f, x, i, Δxs; kwargs...)\n",
    "    dfs = map(Δx -> fd_jacobian(f, x, i, Δx), Δxs)\n",
    "    error(df1, df2) = sum((df1[i]-df2[i])^2 for i in eachindex(df1)) # L2\n",
    "    errs = [error(dfs[i], dfs[i-1]) for i in 2:length(dfs)]\n",
    "    return errs\n",
    "end\n",
    "\n",
    "function plot_convergence(f, x, is, relsteps)\n",
    "    p = plot(xlabel=\"lg(relative step size)\", ylabel=\"lg(L₂(∇fᵢ-∇fᵢ₋₁))\")\n",
    "    for i in is\n",
    "        errs = convergence(f, x, i, relsteps .* x[i])\n",
    "        plot!(p, log10.(relsteps[1:end-1]), log10.(errs))\n",
    "    end\n",
    "    return p\n",
    "end\n",
    "\n",
    "#relsteps = 1 ./ 10 .^ range(0.5, 3.0, step=0.5)\n",
    "#plot_convergence(Dl_class, θ₀, eachindex(vary), relsteps)"
   ]
  },
  {
   "cell_type": "code",
   "execution_count": null,
   "id": "a067dd12-dc16-4448-af89-576bd6b5ef94",
   "metadata": {},
   "outputs": [],
   "source": [
    "dDl_dθ_fd = similar(dDl_dθ_ad)\n",
    "dDl_dθ_fd[:,1] = fd_jacobian(Dl_class, θ₀, 1, 0.05*θ₀[1])\n",
    "dDl_dθ_fd[:,2] = fd_jacobian(Dl_class, θ₀, 2, 0.05*θ₀[2])\n",
    "dDl_dθ_fd[:,3] = fd_jacobian(Dl_class, θ₀, 3, 0.05*θ₀[3])\n",
    "dDl_dθ_fd[:,4] = fd_jacobian(Dl_class, θ₀, 4, 0.05*θ₀[4])\n",
    "dDl_dθ_fd[:,5] = fd_jacobian(Dl_class, θ₀, 5, 0.05*θ₀[5])\n",
    "dDl_dθ_fd[:,6] = fd_jacobian(Dl_class, θ₀, 6, 0.05*θ₀[6])\n",
    "dDl_dθ_fd[:,7] = fd_jacobian(Dl_class, θ₀, 7, 0.05*θ₀[7])\n",
    "dDl_dθ_fd[:,8] = fd_jacobian(Dl_class, θ₀, 8, 0.05*θ₀[8])\n",
    "dDl_dθ_fd[:,9] = fd_jacobian(Dl_class, θ₀, 9, 0.05*θ₀[9])\n",
    "dDl_dθ_fd[:,10] = fd_jacobian(Dl_class, θ₀, 10, 0.05*θ₀[10])"
   ]
  },
  {
   "cell_type": "markdown",
   "id": "959dcdca-3bdd-4e6f-bd70-71225d7e6379",
   "metadata": {},
   "source": [
    "### Compare all parameters"
   ]
  },
  {
   "cell_type": "code",
   "execution_count": null,
   "id": "d055cdd7-2c3b-4674-8f5c-979543aa0735",
   "metadata": {},
   "outputs": [],
   "source": [
    "is = eachindex(vary)\n",
    "label_ad = \"SymBoltz (AD)\"\n",
    "label_fd = \"CLASS (FD)\"\n",
    "θnames = replace.(string.(vary), \"₊\" => \".\")\n",
    "color = permutedims(eachindex(θnames)[is])\n",
    "p = hline([NaN NaN]; xticks = 100:100:1000, ylims = (-4.5, 1.5), size = (600, 400), color = :black, linestyle = [:solid :dash], xlabel = \"l\", ylabel = \"lg(|∂Cₗ / ∂θᵢ / Cₗ|)\", label = [label_ad label_fd], legend_position = :bottomright, legend_columns=2, xlims = extrema(ls), right_margin=2*Plots.mm)\n",
    "f = x -> log10(abs(x))\n",
    "plot!(p, ls, f.(dDl_dθ_ad[:,is] ./ Dls); color, linestyle = :solid, label = \"θᵢ = \" .*  permutedims(θnames[is]))\n",
    "plot!(p, ls, f.(dDl_dθ_fd[:,is] ./ Dls_class); color = :black, alpha, linestyle = :dash, label = nothing)\n",
    "p"
   ]
  },
  {
   "cell_type": "code",
   "execution_count": null,
   "id": "1fc03b99-90b3-4a92-9513-0f1dfa68b26e",
   "metadata": {},
   "outputs": [],
   "source": [
    "savefig(p, \"derivatives.pdf\")"
   ]
  },
  {
   "cell_type": "code",
   "execution_count": null,
   "id": "fdc6839b-436b-400a-8fd9-83ad0367b131",
   "metadata": {},
   "outputs": [],
   "source": [
    "plot(ls, dDl_dθ_ad[:,is] ./ Dls .- (dDl_dθ_fd[:,is] ./ Dls_class); ylabel = \"difference\", label = nothing, size = (600, 200))"
   ]
  },
  {
   "cell_type": "markdown",
   "id": "42cf6e5a-b352-42d7-ad29-d4bb3a6c82ee",
   "metadata": {},
   "source": [
    "### Compute Fisher matrices"
   ]
  },
  {
   "cell_type": "code",
   "execution_count": null,
   "id": "3582aba8-df51-4c59-90ea-37860edcb7e6",
   "metadata": {},
   "outputs": [],
   "source": [
    "using LinearAlgebra\n",
    "function fisher_matrix(ls, Dls, dDls_dθ, is = nothing)\n",
    "    !isnothing(is) && return fisher_matrix(ls, Dls, dDls_dθ[:,is])\n",
    "    N = size(dDls_dθ)[2]\n",
    "    F = zeros(eltype(Dls), (N, N))\n",
    "    for i in 1:N\n",
    "        for j in 1:i\n",
    "            F[i,j] = sum((ls[il]+1/2) * dDls_dθ[il,i]/Dls[il] * dDls_dθ[il,j]/Dls[il] for il in eachindex(ls))\n",
    "            F[j,i] = F[i,j]\n",
    "        end\n",
    "    end\n",
    "    return F\n",
    "end\n",
    "is = eachindex(vary)\n",
    "dDl_dθ1 = copy(dDl_dθ_ad)\n",
    "dDl_dθ2 = copy(dDl_dθ_fd)\n",
    "F_fd = Symmetric(fisher_matrix(ls, Dls, dDl_dθ1, is))\n",
    "F_ad = Symmetric(fisher_matrix(ls, Dls_class, dDl_dθ2, is))\n",
    "\n",
    "# Regularize Fisher matrices by adding small constant to diagonal\n",
    "ϵ = 1e-2 * min(minimum(diag(F_ad)), minimum(diag(F_fd)))\n",
    "F_fd += ϵ * I\n",
    "F_ad += ϵ * I\n",
    "\n",
    "C_fd = inv(F_fd)\n",
    "C_ad = inv(F_ad)\n",
    "\n",
    "p = plot(layout = (2,2))\n",
    "heatmap!(p[1,1], log10.(abs.(F_fd)); title = \"FD\")\n",
    "heatmap!(p[2,1], log10.(abs.(C_fd)))\n",
    "heatmap!(p[1,2], log10.(abs.(F_ad)); title = \"AD\")\n",
    "heatmap!(p[2,2], log10.(abs.(C_ad)))"
   ]
  },
  {
   "cell_type": "markdown",
   "id": "83e3564f-53f3-4ba5-b79f-236e6d9f189a",
   "metadata": {},
   "source": [
    "### Compute covariances and plot contours\n",
    "\n",
    "1. Find eigenvalues of 2D marginalized sub-matrices\n",
    "2. Scale with χ² with 2 DOF (because 2D marginalized) to get 68% and 95% confidence ellipses"
   ]
  },
  {
   "cell_type": "code",
   "execution_count": null,
   "id": "deb1a8ad-1ead-4f6c-9bc1-6fa7036e1e91",
   "metadata": {},
   "outputs": [],
   "source": [
    "using Distributions\n",
    "\n",
    "function ellipse(C, i, j, μ = (0.0, 0.0); conf = 0.68, N = 33)\n",
    "    σᵢ², σⱼ², σᵢⱼ = C[i,i], C[j,j], C[i,j]\n",
    "    θ = (atan(2σᵢⱼ, σᵢ²-σⱼ²)) / 2\n",
    "    a = √((σᵢ²+σⱼ²)/2 + √((σᵢ²-σⱼ²)^2/4+σᵢⱼ^2)) # 1st eigenvalue of marginalized 2x2 matrix\n",
    "    b = √(max(0.0, (σᵢ²+σⱼ²)/2 - √((σᵢ²-σⱼ²)^2/4+σᵢⱼ^2))) # 2nd eigenvalue of marginalized 2x2 matrix\n",
    "    \n",
    "    c = √(quantile(Chisq(2), conf))\n",
    "    a *= c\n",
    "    b *= c\n",
    "\n",
    "    μx, μy = μ\n",
    "    ts = range(0, 2π, length=N)\n",
    "    xs = μx .+ a*cos(θ)*cos.(ts) - b*sin(θ)*sin.(ts)\n",
    "    ys = μy .+ a*sin(θ)*cos.(ts) + b*cos(θ)*sin.(ts)\n",
    "    return xs, ys\n",
    "end\n",
    "\n",
    "function plot_ellipses(C; kwargs...)\n",
    "    N = size(C)[1]\n",
    "    p = plot(layout = (N-1, N-1), size = (550, 550), aspect = 1, margin=-2*Plots.mm)\n",
    "    return plot_ellipses!(p, C; kwargs...)\n",
    "end\n",
    "\n",
    "function plot_ellipses!(p, C; label = nothing, digits = 2, kwargs...)\n",
    "    N = size(C)[1]\n",
    "    for i in eachindex(IndexCartesian(), C)\n",
    "        ix, iy = i[1], i[2]\n",
    "        if iy == 1 || iy > size(p)[1] + 1 || ix > size(p)[2]\n",
    "            continue # out of bounds; skip\n",
    "        end\n",
    "        subplot = p[iy-1, ix]\n",
    "        if ix >= iy\n",
    "            # upper triangular part\n",
    "            _label = (iy-1, ix) == (1, size(p)[2]) ? label : nothing\n",
    "            hline!(subplot, [NaN]; framestyle = :none, label = _label, legendfontsize = 10, kwargs...)\n",
    "        else\n",
    "            # lower triangular part\n",
    "            μx = θ₀[ix]\n",
    "            μy = θ₀[iy]\n",
    "            xlabel = iy == N ? θnames[ix] : \"\"\n",
    "            ylabel = ix == 1 ? θnames[iy] : \"\"\n",
    "            scatter!(subplot, [(μx, μy)]; marker = :cross, color = :black, label = nothing)\n",
    "            for conf in [0.68, 0.95]\n",
    "                xs, ys = ellipse(C, ix, iy, (μx, μy); conf)\n",
    "                plot!(subplot, xs, ys; xlabel, ylabel, label = nothing, labelfontsize = 7, tickfontsize = 7, kwargs...)\n",
    "            end\n",
    "        end\n",
    "    end\n",
    "    return p\n",
    "end\n",
    "\n",
    "p = plot_ellipses(C_ad; color = 1, linestyle = :solid, linewidth = 2, label = \" $label_ad\")\n",
    "plot_ellipses!(p, C_fd; color = 2, linestyle = :dash, linewidth = 2, label = \" $label_fd\")\n",
    "\n",
    "ticks = Dict(\n",
    "    M.g.h => 0.55:0.10:0.85,\n",
    "    M.c.Ω₀ => 0.10:0.10:0.50,\n",
    "    M.b.Ω₀ => 0.01:0.02:0.09,\n",
    "    M.b.YHe => 0.15:0.10:0.35,\n",
    "    M.ν.Neff => 2.4:0.3:3.6,\n",
    "    M.h.m_eV => -0.50:0.25:0.50,\n",
    "    M.X.w₀ => -1.2:0.3:0.3,\n",
    "    M.X.wₐ => -0.5:0.3:0.7,\n",
    "    M.I.ln_As1e10 => 2.92:0.02:3.08,\n",
    "    M.I.ns => 0.92:0.04:1.04,\n",
    ")\n",
    "for i in eachindex(IndexCartesian(), C_fd)\n",
    "    ix, iy = i[1], i[2]\n",
    "    (iy == 1 || iy > size(p)[1] + 1 || ix > size(p)[2]) && continue # out of bounds; skip\n",
    "    subplot = p[iy-1, ix]\n",
    "    if ix > 1\n",
    "        plot!(subplot, yformatter = :none)\n",
    "    end\n",
    "    if iy < size(p)[1]+1\n",
    "        plot!(subplot, xformatter = :none)\n",
    "    end\n",
    "    px = vary[ix]\n",
    "    py = vary[iy]\n",
    "    px in keys(ticks) && xticks!(subplot, ticks[px])\n",
    "    py in keys(ticks) && yticks!(subplot, ticks[py])\n",
    "end\n",
    "plot!(p, xrotation = 45, yrotation = 45, foreground_color_legend = nothing)\n",
    "plot!(p[1,1], left_margin=0*Plots.mm, top_margin=0*Plots.mm)\n",
    "plot!(p[1, size(C_ad)[1]-1], right_margin=0*Plots.mm)"
   ]
  },
  {
   "cell_type": "code",
   "execution_count": null,
   "id": "87e0bf94-026b-4245-bed3-1f08d2cb0157",
   "metadata": {},
   "outputs": [],
   "source": [
    "savefig(p, \"forecast.pdf\")"
   ]
  },
  {
   "cell_type": "markdown",
   "id": "1fdac6a2-cdf4-4dc1-bab8-8bd3124cef14",
   "metadata": {},
   "source": [
    "## Parameter fitting"
   ]
  },
  {
   "cell_type": "code",
   "execution_count": null,
   "id": "0d28f573-84a3-47fe-8d99-2c28e5299d4e",
   "metadata": {},
   "outputs": [],
   "source": [
    "using DataFrames, CSV, PDMats\n",
    "\n",
    "docsdir = joinpath(pkgdir(SymBoltz), \"docs\")\n",
    "data = joinpath(docsdir, \"Pantheon/lcparam_full_long.txt\")\n",
    "Csyst = joinpath(docsdir, \"Pantheon/sys_full_long.txt\")\n",
    "\n",
    "# Read data table\n",
    "data = CSV.read(data, DataFrame, delim = \" \", silencewarnings = true)\n",
    "\n",
    "# Read covariance matrix of apparent magnitudes (mb)\n",
    "Csyst = CSV.read(Csyst, DataFrame, header = false) # long vector\n",
    "Csyst = collect(reshape(Csyst[2:end, 1], (Int(Csyst[1, 1]), Int(Csyst[1, 1])))) # to matrix\n",
    "Cstat = Diagonal(data.dmb)^2 # TODO: should this be squared?\n",
    "C = Csyst + Cstat\n",
    "\n",
    "# Sort data and covariance matrix with decreasing redshift\n",
    "is = sortperm(data, :zcmb, rev = true)\n",
    "C = C[is, is]\n",
    "C = PDMat(Symmetric(C)) # efficient sym-pos-def matrix with Cholesky factorization\n",
    "data = data[is, :]"
   ]
  },
  {
   "cell_type": "code",
   "execution_count": null,
   "id": "00af88b3-c3d7-43c6-acb4-acadbc9bcc26",
   "metadata": {},
   "outputs": [],
   "source": [
    "g = SymBoltz.metric()\n",
    "X = SymBoltz.w0wa(g; analytical = true)\n",
    "K = SymBoltz.curvature(g)\n",
    "M = RMΛ(K = K, Λ = X)\n",
    "M = complete(SymBoltz.background(M); flatten = false)\n",
    "M = change_independent_variable(M, M.g.a; add_old_diff = true)\n",
    "pars_fixed = Dict(M.τ => 0.0, M.r.T₀ => NaN, M.X.cₛ² => NaN, M.X.wa => 0.0, M.r.Ω₀ => 9.3e-5, M.K.Ω₀ => 0.0)\n",
    "pars_varying = [M.m.Ω₀, M.g.h, M.X.w0]\n",
    "\n",
    "dL = SymBoltz.distance_luminosity_function(M, pars_fixed, pars_varying, data.zcmb)\n",
    "μ(p) = 5 * log10.(dL(p)[begin:end-1] / (10*SymBoltz.pc)) # distance modulus\n",
    "\n",
    "# Show example predictions\n",
    "Mb = -19.3 # absolute supernova brightness (constant since SN-Ia are standard candles)\n",
    "bgopts = (alg = SymBoltz.Tsit5(), reltol = 1e-5, maxiters = 1e3)\n",
    "p0 = [0.3, 0.7, -1.0] # fiducial parameters\n",
    "μs = μ(p0)\n",
    "mbs = μs .+ Mb"
   ]
  },
  {
   "cell_type": "code",
   "execution_count": null,
   "id": "bc3f795f-ae1b-450e-af64-1a7e9b7ea839",
   "metadata": {},
   "outputs": [],
   "source": [
    "using Turing, LinearAlgebra\n",
    "\n",
    "@model function supernova(μ_pred, mbs, C; Mb = Mb)\n",
    "    # Parameter priors\n",
    "    h ~ Uniform(0.1, 1.0)\n",
    "    Ωm0 ~ Uniform(0.0, 1.0)\n",
    "    w0 ~ Uniform(-2.0, 0.0)\n",
    "\n",
    "    p = [Ωm0, h, w0]\n",
    "    μs_pred = μ_pred(p)\n",
    "    if isempty(μs_pred)\n",
    "        Turing.@addlogprob! -Inf\n",
    "        return nothing\n",
    "    end\n",
    "    mbs_pred = μs_pred .+ Mb\n",
    "    return mbs ~ MvNormal(mbs_pred, C) # read \"measurements sampled from multivariate normal with predictions and covariance matrix\"\n",
    "\n",
    "    # equivalently:\n",
    "    #Δmb = mbs .- mbs_pred\n",
    "    #χ² = transpose(Δmb) * invC * Δmb\n",
    "    #Turing.@addlogprob! -1/2 * χ²\n",
    "    #return nothing\n",
    "end\n",
    "\n",
    "# https://github.com/JuliaStats/Distributions.jl/issues/1964 # TODO: get rid of? PR?\n",
    "function MvNormal(μ::AbstractVector{<:Real}, Σ::AbstractPDMat{<:Real})\n",
    "    R = Base.promote_eltype(μ, Σ)\n",
    "    Distributions.MvNormal{R, typeof(Σ), typeof(μ)}(μ, Σ)\n",
    "end\n",
    "function MvNormal(μ, Σ)\n",
    "    return Distributions.MvNormal(μ, Σ)\n",
    "end\n",
    "\n",
    "sn_w0CDM_flat = supernova(μ, data.mb, C)"
   ]
  },
  {
   "cell_type": "code",
   "execution_count": null,
   "id": "c964461b-dfea-4881-ae1c-548b81a9c618",
   "metadata": {},
   "outputs": [],
   "source": [
    "chain = sample(sn_w0CDM_flat, NUTS(), 5000; initial_params = (h = 0.5, Ωm0 = 0.5, w0 = -1.0), progress = false)"
   ]
  },
  {
   "cell_type": "code",
   "execution_count": null,
   "id": "93af4877-3d8d-4e66-b34b-4da92803fac5",
   "metadata": {},
   "outputs": [],
   "source": [
    "using CairoMakie, PairPlots\n",
    "layout = (\n",
    "    PairPlots.Scatter(),\n",
    "    PairPlots.Contourf(sigmas = 1:2),\n",
    "    PairPlots.MarginHist(),\n",
    "    PairPlots.MarginDensity(color = :black),\n",
    "    PairPlots.MarginQuantileText(color = :black, font = :regular),\n",
    "    PairPlots.MarginQuantileLines(),\n",
    ")\n",
    "pp = pairplot(chain => layout)"
   ]
  },
  {
   "cell_type": "code",
   "execution_count": null,
   "id": "bdc542b0-b8b4-43df-80d0-6f5e7b18ccbe",
   "metadata": {},
   "outputs": [],
   "source": [
    "save(\"constraints.pdf\", pp)"
   ]
  },
  {
   "cell_type": "markdown",
   "id": "37a0323c-147a-4907-b1a2-19641d00b73f",
   "metadata": {},
   "source": [
    "## Appendix"
   ]
  },
  {
   "cell_type": "code",
   "execution_count": null,
   "id": "899d4e2e-f45c-49bd-96d6-1642c60da256",
   "metadata": {},
   "outputs": [],
   "source": [
    "using Latexify, LaTeXString"
   ]
  },
  {
   "cell_type": "code",
   "execution_count": null,
   "id": "5fcfa291-c388-43f9-ac0c-a418f7f972fa",
   "metadata": {},
   "outputs": [],
   "source": [
    "function process(eqs; fold = false, latex = true)\n",
    "    eqs = substitute(eqs, M.g.ℰ => M.g.ℋ; fold)\n",
    "    eqs = substitute(eqs, SymBoltz.ϵ => 1; fold)\n",
    "    str = string(latexify(eqs))\n",
    "    str = replace(str, \n",
    "        \"\\\\left( \\\\tau \\\\right)\" => \"\",\n",
    "        \"\\\\left\" => \"\",\n",
    "        \"\\\\right\" => \"\",\n",
    "        \"\\\\mathtt\" => \"\",\n",
    "        \"\\\\begin{align}\" => \"\\\\begin{equation}\\\\begin{gathered}\",\n",
    "        \"\\\\end{align}\" => \"\\\\end{gathered}\\\\end{equation}\",\n",
    "        \"\\\\\\\\\" => \", \\\\qquad\",\n",
    "        \"&\" => \"\",\n",
    "    )\n",
    "    str = replace(str, r\"\\( (.) \\)\" => s\"\\1\")\n",
    "    return latex ? Latexify.LaTeXString(str) : str\n",
    "end"
   ]
  },
  {
   "cell_type": "code",
   "execution_count": null,
   "id": "711c8200-d3aa-4a87-b206-c0b85a3b8587",
   "metadata": {},
   "outputs": [],
   "source": [
    "for comp in [M.g, M.G, M.c, M.b, M.γ, M.ν, M.h, M.X]\n",
    "    println(nameof(comp), \": \", ModelingToolkit.description(comp))\n",
    "    process(equations(comp)) |> println\n",
    "end"
   ]
  },
  {
   "cell_type": "markdown",
   "id": "897ff168-f167-4135-ae8c-6208a7704fa0",
   "metadata": {},
   "source": [
    "### Massive neutrino momentum bins"
   ]
  },
  {
   "cell_type": "code",
   "execution_count": null,
   "id": "3cbd2e3b-aac3-42b6-bcbd-9d4f30dc02a2",
   "metadata": {},
   "outputs": [],
   "source": [
    "using QuadGK\n",
    "f₀(x) = 1 / (exp(x) + 1)\n",
    "Nx = 8\n",
    "xWs = [SymBoltz.momentum_quadrature(f₀, nx) for nx in 1:Nx];"
   ]
  },
  {
   "cell_type": "code",
   "execution_count": null,
   "id": "30cb7c5c-9626-4578-a4cb-00f62fae1501",
   "metadata": {},
   "outputs": [],
   "source": [
    "using Printf\n",
    "for (nx, (xs, _)) in enumerate(xWs)\n",
    "    @printf(\"%d\", nx)\n",
    "    for i in 1:nx\n",
    "        @printf(\" & %.5f\", xs[i])\n",
    "    end\n",
    "    for i in nx+1:Nx\n",
    "        @printf(\" &\")\n",
    "    end\n",
    "    @printf(\" \\\\\\\\\\n\")\n",
    "end\n",
    "for (nx, (_, Ws)) in enumerate(xWs)\n",
    "    @printf(\"%d\", nx)\n",
    "    for i in 1:nx\n",
    "        @printf(\" & %.5f\", Ws[i])\n",
    "    end\n",
    "    for i in nx+1:Nx\n",
    "        @printf(\" &\")\n",
    "    end\n",
    "    @printf(\" \\\\\\\\\\n\")\n",
    "end"
   ]
  }
 ],
 "metadata": {
  "kernelspec": {
   "display_name": "Julia 1.11.6 (multithreaded)",
   "language": "julia",
   "name": "julia-1.11-multithreaded"
  },
  "language_info": {
   "file_extension": ".jl",
   "mimetype": "application/julia",
   "name": "julia",
   "version": "1.11.6"
  }
 },
 "nbformat": 4,
 "nbformat_minor": 5
}
