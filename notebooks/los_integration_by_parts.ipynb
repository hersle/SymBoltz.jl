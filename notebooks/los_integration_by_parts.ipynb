{
 "cells": [
  {
   "cell_type": "markdown",
   "id": "ffbce6b1-4208-4bf7-a6e6-7a88666f6f32",
   "metadata": {},
   "source": [
    "# Source function variants for line-of-sight integration"
   ]
  },
  {
   "cell_type": "code",
   "execution_count": null,
   "id": "ad5b6e5e-b4d6-47d4-898f-d8e58392e698",
   "metadata": {},
   "outputs": [],
   "source": [
    "using Pkg\n",
    "Pkg.activate()\n",
    "Base.active_project()"
   ]
  },
  {
   "cell_type": "code",
   "execution_count": null,
   "id": "c6d5521d-013b-496e-8f90-4e4217b555bc",
   "metadata": {},
   "outputs": [],
   "source": [
    "using SymBoltz, Plots, Unitful, UnitfulAstro\n",
    "Plots.default(size = (1200, 500), margin = 8*Plots.mm, fmt = :png, dpi = 200, markersize = 2, markerstrokewidth = 0)"
   ]
  },
  {
   "cell_type": "markdown",
   "id": "6521fa98-2176-40ed-bdad-a5d7949960a8",
   "metadata": {},
   "source": [
    "## Spherical Bessel functions\n",
    "\n",
    "If one can compute $j_l(x)$ easily, one can also compute $j_l^\\prime(x)$ and $j_l^″(x)$ easily from the identities\n",
    "\\begin{align}\n",
    "j_l^\\prime(x) &= \\frac{l}{2l+1} j_{l-1}(x) - \\frac{l+1}{2l+1} j_{l+1}(x), \\\\\n",
    "x^2 j_l^″(x) &= \\left( l(l+1) - x^2 \\right) j_l(x) - 2x j_l^\\prime(x).\n",
    "\\end{align}\n",
    "\n",
    "* TODO: could set $j_l = j_l^\\prime = 0$ and integrate last ODE while doing LOS integrals?"
   ]
  },
  {
   "cell_type": "code",
   "execution_count": null,
   "id": "0cc1646b-75a4-40de-b7d2-03c712dec29c",
   "metadata": {},
   "outputs": [],
   "source": [
    "jl(l, x) = SymBoltz.sphericalbesselj(l, x)\n",
    "jl′(l, x) = l/(2l+1)*jl(l-1,x) - (l+1)/(2l+1)*jl(l+1,x)\n",
    "jl″(l, x) = x == 0 ? jl″(l,1e-20) : (l*(l+1)/x^2 - 1)*jl(l,x) - 2/x*jl′(l,x)\n",
    "\n",
    "l = 2\n",
    "x = 0.0:0.1:100.0\n",
    "plot(xlabel = \"x\", title = \"l = $l\")\n",
    "plot!(x, jl.(l, x); label = \"jₗ\")\n",
    "plot!(x, jl′.(l, x); label = \"jₗ′\")\n",
    "plot!(x, jl″.(l, x); label = \"jₗ″\")"
   ]
  },
  {
   "cell_type": "markdown",
   "id": "f7c9bb28-cf1b-4695-a808-8a2821bd4441",
   "metadata": {},
   "source": [
    "It is easier to capture the features of the functions with more derivatives. Note also these properties:\n",
    "* $j_l(0) = 0$ for $l \\geq 1$,\n",
    "* $j_l^\\prime(0) = 0$ for $l \\geq 2$,\n",
    "* $j_l^″(0) = 0$ for $l \\geq 3$."
   ]
  },
  {
   "cell_type": "markdown",
   "id": "9f92a490-4b4c-478c-aa73-3f8496c7e66e",
   "metadata": {},
   "source": [
    "## Set up model"
   ]
  },
  {
   "cell_type": "code",
   "execution_count": null,
   "id": "4af6a606-cfbb-40e6-8b21-8387fb1f739c",
   "metadata": {},
   "outputs": [],
   "source": [
    "M = ΛCDM(ν = nothing, h = nothing)\n",
    "pars = SymBoltz.parameters_Planck18(M)\n",
    "prob = CosmologyProblem(M, pars)\n",
    "sol = solve(prob) # solve background only to get τ0"
   ]
  },
  {
   "cell_type": "markdown",
   "id": "af45515c-b5c3-486d-b8e3-c1115188efd1",
   "metadata": {},
   "source": [
    "## Choosing time points\n",
    "\n",
    "Take $\\tau$ from background/thermodynamics ODE solution to automatically resolve recombination/reionization."
   ]
  },
  {
   "cell_type": "code",
   "execution_count": null,
   "id": "8165109a-252c-4ea2-9e0d-d3221664542f",
   "metadata": {},
   "outputs": [],
   "source": [
    "τ0 = sol[M.τ0]\n",
    "τ = sol[M.τ]\n",
    "plot(τ, eachindex(τ); xlabel = \"τ\", ylabel = \"N(≤τ)\", label = \"background τ\")"
   ]
  },
  {
   "cell_type": "markdown",
   "id": "cea86632-1aad-4e42-9cb9-55a7d45b133c",
   "metadata": {},
   "source": [
    "## Line-of-sight integration by parts\n",
    "\n",
    "Using integration by parts for any source function $S(\\tau) \\propto e^{-\\kappa(\\tau)}$, the line-of-sight integral can be written:\n",
    "\\begin{align}\n",
    "I &= \\int_0^{\\tau_0} S^″(\\tau) \\cdot j_l(k(\\tau_0-\\tau)) \\, \\mathrm{d}\\tau \\qquad \\text{(0 integrations by parts)} \\\\\n",
    "  &= \\Big[ S^\\prime(\\tau) \\cdot j_l(k(\\tau_0-\\tau)) \\Big]_{\\tau=0}^{\\tau=\\tau_0} - \\int_0^{\\tau_0} (-k) S^\\prime(\\tau) \\cdot j_l^\\prime(k(\\tau_0-\\tau)) \\, \\mathrm{d}\\tau \\\\\n",
    "  &= \\int_0^{\\tau_0} (k S^\\prime(\\tau)) \\cdot j_l^\\prime(k(\\tau_0-\\tau)) \\, \\mathrm{d}\\tau \\qquad \\text{(1 integrations by parts)} \\\\\n",
    "  &= \\Big[ k S(\\tau) \\cdot j_l^\\prime(k(\\tau_0-\\tau)) \\Big]_{\\tau=0}^{\\tau=\\tau_0} - \\int_0^{\\tau_0} (-k) k S(\\tau) \\cdot j_l^″(k(\\tau_0-\\tau)) \\, \\mathrm{d}\\tau \\\\\n",
    "  &= \\int_0^{\\tau_0} (k^2 S(\\tau)) \\cdot j_l^″(k(\\tau_0-\\tau)) \\, \\mathrm{d}\\tau \\qquad \\text{(2 integrations by parts)}\n",
    "\\end{align}\n",
    "\n",
    "The boundary terms vanish for $l \\geq 2$:\n",
    "* at $\\tau=0$, because $S(0) \\propto e^{-\\kappa(0)} = e^{-\\infty} = 0$,\n",
    "* at $\\tau=\\tau_0$, because $j_l(0) = j_l^\\prime(0) = 0$ for $l \\geq 2$.\n",
    "\n",
    "These three line-of-sight integrals are equivalent.\n",
    "But some may be easier to evaluate numerically than others."
   ]
  },
  {
   "cell_type": "code",
   "execution_count": null,
   "id": "375cb0b7-8bd3-4c69-aa75-43b0955af50e",
   "metadata": {},
   "outputs": [],
   "source": [
    "function plot_source_function_alternatives(Salts; l = 2, k = l/τ0, normalize = false, kwargs...)\n",
    "    sol = solve(prob, k)\n",
    "\n",
    "    xlabel = \"τ\"\n",
    "    ylabel = \"integrand\"\n",
    "    if normalize\n",
    "        ylabel = \"$ylabel / max(abs($ylabel))\"\n",
    "    end\n",
    "    p = plot(; title = \"l = $l, k = $(k/(l/τ0)) l/τ0\", xlabel, ylabel)\n",
    "    kχ = k*(τ0.-τ)\n",
    "    kχ = max.(kχ, 0.0) # ensure ≥ 0\n",
    "    for (n, Salt) in enumerate(Salts)\n",
    "        S0 = length(Salt) >= 1 ? Salt[1] : 0\n",
    "        S1 = length(Salt) >= 2 ? Salt[2] : 0\n",
    "        S2 = length(Salt) >= 3 ? Salt[3] : 0\n",
    "        S0 = isequal(S0, 0) ? zeros(length(τ)) : sol(k, τ, S0)\n",
    "        S1 = isequal(S1, 0) ? zeros(length(τ)) : sol(k, τ, S1)\n",
    "        S2 = isequal(S2, 0) ? zeros(length(τ)) : sol(k, τ, S2)\n",
    "        y = @. S0 * jl(l, kχ) + S1 * jl′(l, kχ) + S2 * jl″(l, kχ)\n",
    "        if normalize\n",
    "            y = y / maximum(abs.(y))\n",
    "        end\n",
    "        plot!(τ, y; label = \"alternative $n\", kwargs...)\n",
    "    end\n",
    "    return p\n",
    "end"
   ]
  },
  {
   "cell_type": "markdown",
   "id": "6365ee21-0899-43c7-b701-bdf2d2afa62e",
   "metadata": {},
   "source": [
    "The raw CMB temperature line-of-sight integral is\n",
    "$$\n",
    "\\Theta_l(k,\\tau_0) = \\int_0^{\\tau_0} \\left[ v \\left( \\frac{\\delta_\\gamma}{4} + \\Psi + \\frac{\\Pi_\\gamma}{16} \\right) + e^{-\\kappa} \\left( \\Psi + \\Phi \\right)^\\prime + \\left( \\frac{v u_b}{k} \\right)^\\prime + \\left( \\frac{3}{16} \\frac{v \\Pi_\\gamma}{k^2} \\right)^″ \\right] j_l(k(\\tau_0-\\tau)) \\, \\mathrm{d}\\tau.\n",
    "$$"
   ]
  },
  {
   "cell_type": "markdown",
   "id": "515214b0-639d-47fd-a9d5-5f30611c83fc",
   "metadata": {},
   "source": [
    "## 1. (Integrated) Sachs-Wolfe effect source function (2 alternatives)\n",
    "\n",
    "\\begin{align}\n",
    "\\Theta_l^\\text{(I)SW}(k,\\tau_0) &= \\int_0^{\\tau_0} \\left[ v \\left( \\frac{\\delta_\\gamma}{4} + \\Psi + \\frac{\\Pi_\\gamma}{16} \\right) + e^{-\\kappa} (\\Psi + \\Phi)^\\prime \\right] \\cdot j_l(k(\\tau_0-\\tau)) \\, \\mathrm{d\\tau} \\\\\n",
    "&= \\int_0^{\\tau_0} \\left[ v \\left( \\frac{\\delta_\\gamma}{4} + \\Psi + \\frac{\\Pi_\\gamma}{16} \\right) + \\kappa^\\prime e^{-\\kappa} (\\Psi + \\Phi) \\right] \\cdot j_l(k(\\tau_0-\\tau)) \\, \\mathrm{d\\tau} \\\\\n",
    "&+ \\int_0^{\\tau_0} k (\\Psi + \\Phi) e^{-\\kappa} \\cdot j_l^\\prime(k(\\tau_0-\\tau)) \\, \\mathrm{d}\\tau \\\\\n",
    "&= \\int_0^{\\tau_0} v \\left( \\frac{\\delta_\\gamma}{4} - \\Phi + \\frac{\\Pi_\\gamma}{16} \\right) \\cdot j_l(k(\\tau_0-\\tau)) \\, \\mathrm{d\\tau} + \\int_0^{\\tau_0} k (\\Psi + \\Phi) e^{-\\kappa} \\cdot j_l^\\prime(k(\\tau_0-\\tau)) \\, \\mathrm{d}\\tau \\\\\n",
    "&= \\int_0^{\\tau_0} \\left[ v \\left( \\frac{\\delta_\\gamma}{4} + \\Psi + \\frac{\\Pi_\\gamma}{16} \\right) + e^{-\\kappa} (\\Psi - \\Phi)^\\prime + 2 e^{-\\kappa} \\Phi^\\prime \\right] \\cdot j_l(k(\\tau_0-\\tau)) \\, \\mathrm{d\\tau} \\\\\n",
    "&= \\int_0^{\\tau_0} \\left[ v \\left( \\frac{\\delta_\\gamma}{4} + \\Psi + \\frac{\\Pi_\\gamma}{16} \\right) + \\kappa^\\prime e^{-\\kappa} (\\Psi - \\Phi) + 2 e^{-\\kappa} \\Phi^\\prime \\right] \\cdot j_l(k(\\tau_0-\\tau)) \\, \\mathrm{d\\tau} \\\\\n",
    "&+ \\int_0^{\\tau_0} k (\\Psi-\\Phi) e^{-\\kappa} \\cdot j_l^\\prime(k(\\tau_0-\\tau)) \\, \\mathrm{d}\\tau \\\\\n",
    "&= \\int_0^{\\tau_0} \\left[ v \\left( \\frac{\\delta_\\gamma}{4} + \\Phi + \\frac{\\Pi_\\gamma}{16} \\right) + 2 e^{-\\kappa} \\Phi^\\prime \\right] \\cdot j_l(k(\\tau_0-\\tau)) \\, \\mathrm{d\\tau} + \\int_0^{\\tau_0} k (\\Psi-\\Phi) e^{-\\kappa} \\cdot j_l^\\prime(k(\\tau_0-\\tau)) \\, \\mathrm{d}\\tau \\\\\n",
    "\\end{align}"
   ]
  },
  {
   "cell_type": "code",
   "execution_count": null,
   "id": "ca843142-8943-46ba-94a1-42570e4f8da2",
   "metadata": {},
   "outputs": [],
   "source": [
    "# Alternative 1:\n",
    "S0 = M.b.rec.v * (M.γ.δ/4 + M.g.Ψ + M.γ.Π/16) + exp(-M.b.rec.κ) * (M.g.Ψ̇ - M.g.Φ̇)\n",
    "S1 = 0\n",
    "Salt1 = [S0, S1]\n",
    "\n",
    "# Alternative 2:\n",
    "S0 = M.b.rec.v * (M.γ.δ/4 + M.g.Φ + M.γ.Π/16) + 2 * exp(-M.b.rec.κ) * M.g.Φ̇\n",
    "S1 = M.k * (M.g.Ψ - M.g.Φ) * exp(-M.b.rec.κ)\n",
    "Salt2 = [S0, S1]\n",
    "\n",
    "# Alternative 3:\n",
    "S0 = M.b.rec.v * (M.γ.δ/4 - M.g.Φ + M.γ.Π/16)\n",
    "S1 = M.k * exp(-M.b.rec.κ) * (M.g.Ψ + M.g.Φ)\n",
    "Salt3 = [S0, S1]\n",
    "\n",
    "plot_source_function_alternatives([Salt1, Salt2, Salt3]; l = 10, k = 1*l/τ0, marker = :circle)"
   ]
  },
  {
   "cell_type": "markdown",
   "id": "b08771ae-6b41-41b4-9bf5-4cb3aa12082d",
   "metadata": {},
   "source": [
    "## 2. Doppler effect source function (2 alternatives)\n",
    "\n",
    "\\begin{align}\n",
    "\\Theta_l^\\text{Doppler}(k,\\tau_0) &= \\int_0^{\\tau_0} \\left( \\frac{v \\, u_b}{k} \\right)^\\prime \\cdot j_l(k(\\tau_0-\\tau)) \\, \\mathrm{d}\\tau \\\\\n",
    "&= \\int_0^{\\tau_0} v \\, u_b \\cdot j_l^\\prime(k(\\tau_0-\\tau)) \\, \\mathrm{d}\\tau\n",
    "\\end{align}"
   ]
  },
  {
   "cell_type": "code",
   "execution_count": null,
   "id": "fa3cdadd-43d4-4ca2-8c8d-49a15b539453",
   "metadata": {},
   "outputs": [],
   "source": [
    "D = SymBoltz.D\n",
    "\n",
    "# Alternative 2:\n",
    "S0 = 0\n",
    "S1 = M.b.rec.v * M.b.u\n",
    "Salt2 = [S0, S1]\n",
    "\n",
    "# Alternative 1:\n",
    "S0 = SymBoltz.express_derivatives(D(S1) / M.k, prob)\n",
    "S1 = 0\n",
    "Salt1 = [S0, S1]\n",
    "\n",
    "l = 50\n",
    "k = 20*l/τ0\n",
    "plot_source_function_alternatives([Salt1, Salt2]; l, k, marker = :circle)"
   ]
  },
  {
   "cell_type": "markdown",
   "id": "abf25052-c7d2-47ae-9702-3e55c80e74db",
   "metadata": {},
   "source": [
    "## 3. Polarization source function (3 alternatives)\n",
    "\n",
    "\\begin{align}\n",
    "\\Theta_l^\\text{polarization}(k,\\tau_0) &= \\int_0^{\\tau_0} \\left( \\frac{3}{16} \\frac{v \\Pi}{k^2} \\right)^″  \\cdot j_l(k(\\tau_0-\\tau)) \\, \\mathrm{d}\\tau \\\\\n",
    "&= \\int_0^{\\tau_0} \\left( \\frac{3}{16} \\frac{v \\Pi}{k} \\right)^\\prime \\cdot j_l^′(k(\\tau_0-\\tau)) \\, \\mathrm{d}\\tau \\\\\n",
    "&= \\int_0^{\\tau_0} \\left( \\frac{3}{16} v \\Pi \\right) \\cdot j_l^″(k(\\tau_0-\\tau)) \\, \\mathrm{d}\\tau \\\\\n",
    "\\end{align}"
   ]
  },
  {
   "cell_type": "code",
   "execution_count": null,
   "id": "df93c525-85c6-4a44-9e7f-a995d469da3a",
   "metadata": {},
   "outputs": [],
   "source": [
    "Salt1 = [M.ST0_polarization, 0, 0]\n",
    "Salt2 = [0, M.ST1_polarization, 0]\n",
    "Salt3 = [0, 0, M.ST2_polarization]\n",
    "plot_source_function_alternatives([Salt1, Salt2, Salt3]; l = 5, marker = :circle, normalize = true)"
   ]
  }
 ],
 "metadata": {
  "kernelspec": {
   "display_name": "Julia Auto Threads 1.11.5",
   "language": "julia",
   "name": "julia-auto-threads-1.11"
  },
  "language_info": {
   "file_extension": ".jl",
   "mimetype": "application/julia",
   "name": "julia",
   "version": "1.11.5"
  }
 },
 "nbformat": 4,
 "nbformat_minor": 5
}
