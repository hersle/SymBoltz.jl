{
 "cells": [
  {
   "cell_type": "code",
   "execution_count": null,
   "id": "a930e8e6-a3c8-4b2c-bce5-ae4c8ef86fcd",
   "metadata": {},
   "outputs": [],
   "source": [
    "using Pkg; Pkg.activate()"
   ]
  },
  {
   "cell_type": "markdown",
   "id": "b2acb014-ec53-47a7-a5b9-9bc7c3ad816d",
   "metadata": {},
   "source": [
    "# Convergence of CMB power spectrum"
   ]
  },
  {
   "cell_type": "code",
   "execution_count": null,
   "id": "978b4c2c-b709-4caf-9982-f86308f313ed",
   "metadata": {},
   "outputs": [],
   "source": [
    "using SymBoltz, Plots\n",
    "M = ΛCDM(ν = nothing, h = nothing)\n",
    "pars = SymBoltz.parameters_Planck18(M)\n",
    "prob = CosmologyProblem(M, pars)"
   ]
  },
  {
   "cell_type": "code",
   "execution_count": null,
   "id": "a7fb15d8-78e7-4cfe-a0a8-32019a04caad",
   "metadata": {},
   "outputs": [],
   "source": [
    "ls = 25:25:1000\n",
    "lmin = ls[begin]\n",
    "lmax = ls[end]\n",
    "\n",
    "p = plot()\n",
    "for Nlos in [512, 768, 1024, 2048, 0] # number of time points for LOS integration (0 for \"adaptive\")\n",
    "for kτ0min in [0.1] .* lmin # minimum wavenumber*timetoday to integrate in k\n",
    "for kτ0max in [3] .* lmax # maximum wavenumber*timetoday to integrate in k\n",
    "for Δkτ0 in [2π/2] # density of wavenumber*timetoday to integrate in k (and to interpolate ODE solutions)\n",
    "for Δkτ0_S in [8.0] # density of wavenumbers to solve ODEs with\n",
    "for bgreltol in [1e-8] # tolerance for background ODE solver\n",
    "for ptreltol in [1e-8] # tolerance for perturbation ODE solver\n",
    "for bgalg in [SymBoltz.Rodas4P()] # background ODE solver\n",
    "for ptalg in [SymBoltz.KenCarp4()] # perturbation ODE solver\n",
    "for integrator in [SymBoltz.TrapezoidalRule()] # integration method for LOS and k integration\n",
    "for ktransform in [identity] # linearly interpolate solution between ktransform(k1) and ktransform(k2)\n",
    "    Dls = spectrum_cmb(:TT, prob, ls; normalization = :Dl, Δkτ0, Δkτ0_S, kτ0min, kτ0max, Nlos, bgopts = (alg = bgalg, reltol = bgreltol), ptopts = (alg = ptalg, reltol = ptreltol,), integrator, ktransform, verbose = true)\n",
    "    Plots.plot!(p, ls, Dls, linestyle = :solid, alpha = 0.8, xlabel = \"l\", ylabel = \"Dₗ\")\n",
    "end end end end end end end end end end end\n",
    "plot(p; fmt = :png)"
   ]
  },
  {
   "cell_type": "markdown",
   "id": "5efdc3ba-fcbe-4236-81a7-ebd0de4bf603",
   "metadata": {},
   "source": [
    "1. Change $S_0$ and $S_1$ in code.\n",
    "2. Calculate CMB power spectrum for e.g. `Nlos = 0` and `Nlos = 1024`.\n",
    "3. Check stability.\n",
    "\n",
    "Results (for $l \\gtrsim 25$):\n",
    "\n",
    "- **(I)SW:**\n",
    "  - $v(+\\Psi) + e^{-\\kappa}(\\Psi+\\Phi)^\\prime$ (original) is stable around `Nlos >= 512`.\n",
    "  - $v(+\\Phi) + 2 e^{-\\kappa} \\Phi^\\prime + k \\cdot e^{-\\kappa}(\\Psi-\\Phi)$ is stable around `Nlos >= 512`.\n",
    "  - $v(-\\Phi) + k \\cdot e^{-\\kappa}(\\Psi+\\Phi)$ is very unstable.\n",
    "- **Doppler:**\n",
    "  - 0 IBP is stable around `Nlos = 1024`.\n",
    "  - 1 IBP is slightly unstable `Nlos = 1024`.\n",
    "- **Polarization:** 0 IBP and 1 IBP are equally stable when changing `Nlos`.\n",
    "\n",
    "So might as well use 0 integrations by parts in all terms..."
   ]
  },
  {
   "cell_type": "code",
   "execution_count": null,
   "id": "7969ee81-d333-4727-b20f-042ac29521c4",
   "metadata": {},
   "outputs": [],
   "source": [
    "# TODO: repeat for ∂Dₗ/∂θᵢ\n",
    "# TODO: repeat for TE and EE"
   ]
  }
 ],
 "metadata": {
  "kernelspec": {
   "display_name": "Julia Auto Threads 1.11.5",
   "language": "julia",
   "name": "julia-auto-threads-1.11"
  },
  "language_info": {
   "file_extension": ".jl",
   "mimetype": "application/julia",
   "name": "julia",
   "version": "1.11.5"
  }
 },
 "nbformat": 4,
 "nbformat_minor": 5
}
