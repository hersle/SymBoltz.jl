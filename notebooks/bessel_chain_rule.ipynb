{
 "cells": [
  {
   "cell_type": "code",
   "execution_count": null,
   "id": "f75b650c-3ef8-4f2c-ae73-df0c78fa0864",
   "metadata": {},
   "outputs": [],
   "source": [
    "using Pkg; Pkg.activate()\n",
    "using Bessels, ForwardDiff, ForwardDiffChainRules, ChainRulesCore, FiniteDiff\n",
    "using Plots; Plots.default(margin = 4*Plots.mm, linewidth = 4, dpi = 150, fmt = :png)"
   ]
  },
  {
   "cell_type": "markdown",
   "id": "1f2d2d1b-be8a-4b89-880f-b83863281a05",
   "metadata": {},
   "source": [
    "# Define chain rule for spherical Bessel function"
   ]
  },
  {
   "cell_type": "code",
   "execution_count": null,
   "id": "802df3df-1d98-456d-8966-0b427e3bd625",
   "metadata": {},
   "outputs": [],
   "source": [
    "jl(l, x) = Bessels.sphericalbesselj(l, x)\n",
    "jl′(l, x) = l/(2l+1)*jl(l-1,x) - (l+1)/(2l+1)*jl(l+1,x)\n",
    "\n",
    "# Overload chain rule for spherical Bessel function\n",
    "ChainRulesCore.frule((_, _, Δx), ::typeof(jl), l, x) = jl(l, x), jl′(l, x) * Δx # (value, derivative)\n",
    "@ForwardDiff_frule jl(l::Integer, x::ForwardDiff.Dual) # define dispatch\n",
    "\n",
    "# Test on a crazy composite function\n",
    "crazy(l, x) = sin(7*jl(l, x^2))\n",
    "dcrazy_anal(l, x) = cos(7*jl(l, x^2)) * 7*jl′(l, x^2) * 2*x\n",
    "dcrazy_fin(l, x) = FiniteDiff.finite_difference_derivative(x -> crazy(l, x), x)\n",
    "dcrazy_auto(l, x) = ForwardDiff.derivative(x -> crazy(l, x), x)\n",
    "\n",
    "l = 5\n",
    "x = 0.0:0.01:6.0\n",
    "p = plot(layout = (2, 1), size = (800, 600))\n",
    "plot!(p[1], x, crazy.(l, x), xlabel = \"x\", title = \"crazy(x) = sin(7jₗ(x²))\", label = nothing)\n",
    "plot!(p[2], x, dcrazy_anal.(l, x); label = \"analytical derivative\", linestyle = :solid, xlabel = \"x\", title = \"d(crazy(x)) / dx\")\n",
    "plot!(p[2], x, dcrazy_fin.(l, x); label = \"finite differences\", linestyle = :dash)\n",
    "plot!(p[2], x, dcrazy_auto.(l, x); label = \"automatic differentiation\", linestyle = :dot)"
   ]
  }
 ],
 "metadata": {
  "kernelspec": {
   "display_name": "Julia Auto Threads 1.11.5",
   "language": "julia",
   "name": "julia-auto-threads-1.11"
  },
  "language_info": {
   "file_extension": ".jl",
   "mimetype": "application/julia",
   "name": "julia",
   "version": "1.11.5"
  }
 },
 "nbformat": 4,
 "nbformat_minor": 5
}
